{
 "cells": [
  {
   "cell_type": "markdown",
   "metadata": {
    "collapsed": true,
    "pycharm": {
     "name": "#%% md\n"
    }
   },
   "source": [
    "# Creating a simple Bayesian model\n",
    "## Using the data from following table create a model predicting number of passenger deaths.\n",
    "Use poisson distribution in two variants\n",
    "\n",
    "1. The rate is constant for all years and not depending on anything.\n",
    "2. The intensity is constant, but rate is a product of intensity and miles flown.\n",
    "\n",
    "Select appropriate priors, perform prior predictive checks, fit the model and using posterior predictive distribution predict the death rates from the model."
   ]
  },
  {
   "cell_type": "code",
   "execution_count": 1,
   "metadata": {
    "pycharm": {
     "is_executing": false,
     "name": "#%%\n"
    }
   },
   "outputs": [],
   "source": [
    "import pystan\n",
    "import stan_utility\n",
    "\n",
    "import arviz as az\n",
    "import numpy as np\n",
    "import scipy.stats as stats\n",
    "import pandas as pd\n",
    "import matplotlib.pyplot as plt\n",
    "import matplotlib as mpl\n",
    "from DA_tools import ribbon_plot, light, light_highlight, mid, mid_highlight, dark, dark_highlight\n",
    "\n",
    "st=plt.style.context('seaborn-white')\n",
    "mpl.rcParams['figure.dpi']= 200"
   ]
  },
  {
   "cell_type": "code",
   "execution_count": 2,
   "metadata": {
    "pycharm": {
     "is_executing": false,
     "name": "#%%\n"
    }
   },
   "outputs": [
    {
     "name": "stderr",
     "text": [
      "INFO:numexpr.utils:NumExpr defaulting to 4 threads.\n"
     ],
     "output_type": "stream"
    },
    {
     "data": {
      "text/plain": "      Fatal accidents  Passenger deaths  Death rate  \\\nYear                                                  \n1976               24               734        0.19   \n1977               25               516        0.12   \n1978               31               754        0.15   \n1979               31               877        0.16   \n1980               22               814        0.14   \n1981               21               362        0.06   \n1982               26               764        0.13   \n1983               20               809        0.13   \n1984               16               223        0.03   \n1985               22              1066        0.15   \n\n      Miles flown [100 mln miles]  \nYear                               \n1976                       3863.0  \n1977                       4300.0  \n1978                       5027.0  \n1979                       5481.0  \n1980                       5814.0  \n1981                       6033.0  \n1982                       5877.0  \n1983                       6223.0  \n1984                       7433.0  \n1985                       7107.0  ",
      "text/html": "<div>\n<style scoped>\n    .dataframe tbody tr th:only-of-type {\n        vertical-align: middle;\n    }\n\n    .dataframe tbody tr th {\n        vertical-align: top;\n    }\n\n    .dataframe thead th {\n        text-align: right;\n    }\n</style>\n<table border=\"1\" class=\"dataframe\">\n  <thead>\n    <tr style=\"text-align: right;\">\n      <th></th>\n      <th>Fatal accidents</th>\n      <th>Passenger deaths</th>\n      <th>Death rate</th>\n      <th>Miles flown [100 mln miles]</th>\n    </tr>\n    <tr>\n      <th>Year</th>\n      <th></th>\n      <th></th>\n      <th></th>\n      <th></th>\n    </tr>\n  </thead>\n  <tbody>\n    <tr>\n      <td>1976</td>\n      <td>24</td>\n      <td>734</td>\n      <td>0.19</td>\n      <td>3863.0</td>\n    </tr>\n    <tr>\n      <td>1977</td>\n      <td>25</td>\n      <td>516</td>\n      <td>0.12</td>\n      <td>4300.0</td>\n    </tr>\n    <tr>\n      <td>1978</td>\n      <td>31</td>\n      <td>754</td>\n      <td>0.15</td>\n      <td>5027.0</td>\n    </tr>\n    <tr>\n      <td>1979</td>\n      <td>31</td>\n      <td>877</td>\n      <td>0.16</td>\n      <td>5481.0</td>\n    </tr>\n    <tr>\n      <td>1980</td>\n      <td>22</td>\n      <td>814</td>\n      <td>0.14</td>\n      <td>5814.0</td>\n    </tr>\n    <tr>\n      <td>1981</td>\n      <td>21</td>\n      <td>362</td>\n      <td>0.06</td>\n      <td>6033.0</td>\n    </tr>\n    <tr>\n      <td>1982</td>\n      <td>26</td>\n      <td>764</td>\n      <td>0.13</td>\n      <td>5877.0</td>\n    </tr>\n    <tr>\n      <td>1983</td>\n      <td>20</td>\n      <td>809</td>\n      <td>0.13</td>\n      <td>6223.0</td>\n    </tr>\n    <tr>\n      <td>1984</td>\n      <td>16</td>\n      <td>223</td>\n      <td>0.03</td>\n      <td>7433.0</td>\n    </tr>\n    <tr>\n      <td>1985</td>\n      <td>22</td>\n      <td>1066</td>\n      <td>0.15</td>\n      <td>7107.0</td>\n    </tr>\n  </tbody>\n</table>\n</div>"
     },
     "metadata": {},
     "output_type": "execute_result",
     "execution_count": 2
    }
   ],
   "source": [
    "# Create target data\n",
    "dts=[24,734,25,516,31,754,31,877,22,814,21,362,26,764,20,809,16,223,22,1066]\n",
    "c1=dts[::2]\n",
    "c2=dts[1::2]\n",
    "\n",
    "Airline_data=pd.DataFrame({'Year':[1976,1977,1978,1979,1980,1981,1982,1983,1984,1985],\n",
    "                           'Fatal accidents':c1,  \n",
    "                           'Passenger deaths':c2,\n",
    "                           'Death rate':[0.19,0.12,0.15,0.16,0.14,0.06,0.13,0.13,0.03,0.15]}).set_index('Year')\n",
    "Airline_data['Miles flown [100 mln miles]']=np.round(Airline_data['Passenger deaths']/Airline_data['Death rate'])\n",
    "\n",
    "## generation of vector for plotting samples under histograms\n",
    "acc=[]\n",
    "dta_cnt=[]\n",
    "for k in Airline_data['Fatal accidents']:  \n",
    "    dta_cnt.append(-(1.+acc.count(k)))\n",
    "    acc.append(k)\n",
    "dta_cnt=np.array(dta_cnt)\n",
    "\n",
    "Airline_data\n"
   ]
  },
  {
   "cell_type": "markdown",
   "metadata": {
    "pycharm": {
     "name": "#%% md\n"
    }
   },
   "source": [
    "## 1. The rate is constant for all years and not depending on anything."
   ]
  },
  {
   "cell_type": "code",
   "execution_count": 3,
   "metadata": {
    "pycharm": {
     "is_executing": false,
     "name": "#%%\n"
    }
   },
   "outputs": [
    {
     "data": {
      "text/plain": "Year\n1976     734\n1977     516\n1978     754\n1979     877\n1980     814\n1981     362\n1982     764\n1983     809\n1984     223\n1985    1066\nName: Passenger deaths, dtype: int64"
     },
     "metadata": {},
     "output_type": "execute_result",
     "execution_count": 3
    }
   ],
   "source": [
    "Airline_data['Passenger deaths']"
   ]
  },
  {
   "cell_type": "code",
   "execution_count": 4,
   "metadata": {
    "pycharm": {
     "is_executing": false,
     "name": "#%%\n"
    }
   },
   "outputs": [
    {
     "data": {
      "text/plain": "(array([1., 1., 0., 1., 0., 0., 4., 2., 0., 1.]),\n array([ 223. ,  307.3,  391.6,  475.9,  560.2,  644.5,  728.8,  813.1,\n         897.4,  981.7, 1066. ]),\n <a list of 10 Patch objects>)"
     },
     "metadata": {},
     "output_type": "execute_result",
     "execution_count": 4
    },
    {
     "data": {
      "text/plain": "<Figure size 432x288 with 1 Axes>",
      "image/png": "[encoded data removed]"
     },
     "metadata": {
      "needs_background": "light"
     },
     "output_type": "display_data"
    }
   ],
   "source": [
    "plt.hist(Airline_data['Passenger deaths'])"
   ]
  },
  {
   "cell_type": "code",
   "execution_count": 5,
   "metadata": {
    "pycharm": {
     "is_executing": false,
     "name": "#%%\n"
    }
   },
   "outputs": [
    {
     "data": {
      "text/plain": "691.9"
     },
     "metadata": {},
     "output_type": "execute_result",
     "execution_count": 5
    }
   ],
   "source": [
    "Airline_data['Passenger deaths'].mean()"
   ]
  },
  {
   "cell_type": "markdown",
   "metadata": {
    "pycharm": {
     "is_executing": false,
     "name": "#%% md\n"
    }
   },
   "source": [
    "When considering the data, we can see that they are quite dispersed, but in the range from 200 to 1000 focusing more in the upper limits."
   ]
  },
  {
   "cell_type": "code",
   "execution_count": 6,
   "metadata": {
    "pycharm": {
     "is_executing": false,
     "name": "#%%\n"
    }
   },
   "outputs": [],
   "source": [
    "Lambda = Airline_data['Passenger deaths'].mean()"
   ]
  },
  {
   "cell_type": "code",
   "execution_count": 7,
   "metadata": {
    "pycharm": {
     "is_executing": false,
     "name": "#%%\n"
    }
   },
   "outputs": [
    {
     "name": "stdout",
     "text": [
      "// Passenger deaths - prior predictive checks\n",
      "generated quantities {\n",
      "    // During prior prediction we shouldn't look to data but we don't have to much knowledge about how many people die per year in plane accidents\n",
      "    // So I decided to use mean value of deaths from data and select wide sigma to catch all possibilities\n",
      "    real lambda = normal_rng(692,200);\n",
      "    int deaths = poisson_rng(lambda);\n",
      "}\n"
     ],
     "output_type": "stream"
    }
   ],
   "source": [
    "with open('PD_PPC.stan', 'r') as file:\n",
    "    print(file.read())"
   ]
  },
  {
   "cell_type": "code",
   "execution_count": 8,
   "metadata": {
    "pycharm": {
     "is_executing": false,
     "name": "#%%\n"
    }
   },
   "outputs": [
    {
     "name": "stderr",
     "text": [
      "INFO:pystan:COMPILING THE C++ CODE FOR MODEL anon_model_1107962af31c597803b1b86fade36776 NOW.\n"
     ],
     "output_type": "stream"
    }
   ],
   "source": [
    "model_ppc=stan_utility.compile_model('PD_PPC.stan')"
   ]
  },
  {
   "cell_type": "code",
   "execution_count": 9,
   "metadata": {
    "pycharm": {
     "is_executing": false,
     "name": "#%%\n"
    }
   },
   "outputs": [],
   "source": [
    "R = 1000\n",
    "sim = model_ppc.sampling(data=dict(),\n",
    "                         iter=R,\n",
    "                         warmup=0,\n",
    "                         refresh=R,\n",
    "                         algorithm='Fixed_param',\n",
    "                         seed=43541)"
   ]
  },
  {
   "cell_type": "code",
   "execution_count": 10,
   "metadata": {
    "pycharm": {
     "is_executing": false,
     "name": "#%%\n"
    }
   },
   "outputs": [],
   "source": [
    "params_sim=sim.extract()\n",
    "lambda_sim=params_sim['lambda']\n",
    "deaths_sim=params_sim['deaths']"
   ]
  },
  {
   "cell_type": "code",
   "execution_count": 11,
   "metadata": {
    "pycharm": {
     "is_executing": false,
     "name": "#%%\n"
    }
   },
   "outputs": [
    {
     "data": {
      "text/plain": "<Figure size 504x288 with 2 Axes>",
      "image/png": "[encoded data removed]"
     },
     "metadata": {
      "needs_background": "light"
     },
     "output_type": "display_data"
    }
   ],
   "source": [
    "fig = plt.figure(figsize=(7, 4))\n",
    "\n",
    "gs = fig.add_gridspec(2,1)\n",
    "ax1 = fig.add_subplot(gs[1])\n",
    "ax1.hist(deaths_sim,bins=100,color=dark,edgecolor=dark_highlight,density=True)\n",
    "ax1.vlines([Airline_data['Passenger deaths'].min(),Airline_data['Passenger deaths'].max()],\n",
    "           ymin=0,ymax=2e-3,linestyle='--',color='black',zorder=1)\n",
    "# ax1.set_yticks([])\n",
    "ax1.set_title('Simulated deaths')\n",
    "\n",
    "ax2 = fig.add_subplot(gs[0])\n",
    "ax2.hist(lambda_sim,bins=100,color=dark,edgecolor=dark_highlight,density=True)\n",
    "x=np.linspace(0,1500,500)\n",
    "y=stats.norm.pdf(x,loc=692,scale=200)\n",
    "ax2.plot(x,y,'black')\n",
    "ax2.set_title('$\\lambda$')\n",
    "ax1.set_yticks([])\n",
    "ax2.set_yticks([])\n",
    "\n",
    "fig.tight_layout()\n",
    "plt.show()"
   ]
  },
  {
   "cell_type": "markdown",
   "metadata": {
    "pycharm": {
     "name": "#%% md\n"
    }
   },
   "source": [
    "We can se that simulated number of deaths ale mostly between min and max value\n",
    "and still there is possibility to reach that values so our prior is ok"
   ]
  },
  {
   "cell_type": "code",
   "execution_count": 12,
   "metadata": {
    "pycharm": {
     "is_executing": false,
     "name": "#%%\n"
    }
   },
   "outputs": [
    {
     "name": "stdout",
     "text": [
      "data {\n",
      "    int N; //Number of our samples from data\n",
      "    int deaths[N]; //Our deaths per year from data\n",
      "}\n",
      "\n",
      "parameters{\n",
      "    real<lower=0> lambda;\n",
      "}\n",
      "\n",
      "model {\n",
      "    lambda ~ normal(692,200);\n",
      "    deaths ~ poisson(lambda);\n",
      "}\n",
      "\n",
      "generated quantities {\n",
      "    int death = poisson_rng(lambda);\n",
      "}\n"
     ],
     "output_type": "stream"
    }
   ],
   "source": [
    "with open('PD_fit.stan', 'r') as file:\n",
    "    print(file.read())"
   ]
  },
  {
   "cell_type": "code",
   "execution_count": 13,
   "metadata": {
    "pycharm": {
     "is_executing": false,
     "name": "#%%\n"
    }
   },
   "outputs": [
    {
     "name": "stderr",
     "text": [
      "INFO:pystan:COMPILING THE C++ CODE FOR MODEL anon_model_b7d0f78e7ed3a06c321058c923165b39 NOW.\n"
     ],
     "output_type": "stream"
    }
   ],
   "source": [
    "model_fit=stan_utility.compile_model('PD_fit.stan')"
   ]
  },
  {
   "cell_type": "code",
   "execution_count": 14,
   "metadata": {
    "pycharm": {
     "is_executing": false,
     "name": "#%%\n"
    }
   },
   "outputs": [],
   "source": [
    "fit=model_fit.sampling(data=dict(N=len(Airline_data['Passenger deaths']),\n",
    "                                 deaths=Airline_data['Passenger deaths']),\n",
    "                       seed=43541)"
   ]
  },
  {
   "cell_type": "code",
   "execution_count": 15,
   "metadata": {
    "pycharm": {
     "is_executing": false,
     "name": "#%%\n"
    }
   },
   "outputs": [
    {
     "data": {
      "text/plain": "          mean    sd  hpd_3%  hpd_97%\nlambda  691.69  8.48  676.13   707.69",
      "text/html": "<div>\n<style scoped>\n    .dataframe tbody tr th:only-of-type {\n        vertical-align: middle;\n    }\n\n    .dataframe tbody tr th {\n        vertical-align: top;\n    }\n\n    .dataframe thead th {\n        text-align: right;\n    }\n</style>\n<table border=\"1\" class=\"dataframe\">\n  <thead>\n    <tr style=\"text-align: right;\">\n      <th></th>\n      <th>mean</th>\n      <th>sd</th>\n      <th>hpd_3%</th>\n      <th>hpd_97%</th>\n    </tr>\n  </thead>\n  <tbody>\n    <tr>\n      <td>lambda</td>\n      <td>691.69</td>\n      <td>8.48</td>\n      <td>676.13</td>\n      <td>707.69</td>\n    </tr>\n  </tbody>\n</table>\n</div>"
     },
     "metadata": {},
     "output_type": "execute_result",
     "execution_count": 15
    }
   ],
   "source": [
    "az.summary(fit,var_names=['lambda'], round_to=2, kind='stats')"
   ]
  },
  {
   "cell_type": "markdown",
   "metadata": {
    "pycharm": {
     "is_executing": false,
     "name": "#%% md\n"
    }
   },
   "source": [
    "Mean value is really close to mean value that we assume in the beginning.\n",
    "It happened because wo shouldn't use data for prior prediction, but we don't have any knowledge about plane death persons so we don't have other choice.\n",
    "We have to begin with something. "
   ]
  },
  {
   "cell_type": "code",
   "execution_count": 16,
   "metadata": {
    "pycharm": {
     "is_executing": false,
     "name": "#%%\n"
    }
   },
   "outputs": [],
   "source": [
    "params_fit=fit.extract()\n",
    "lambda_fit=params_fit['lambda']\n",
    "deaths_pred=params_fit['death']"
   ]
  },
  {
   "cell_type": "code",
   "execution_count": 17,
   "metadata": {
    "pycharm": {
     "is_executing": false,
     "name": "#%%\n"
    }
   },
   "outputs": [
    {
     "data": {
      "text/plain": "<Figure size 504x288 with 2 Axes>",
      "image/png": "[encoded data removed]"
     },
     "metadata": {
      "needs_background": "light"
     },
     "output_type": "display_data"
    }
   ],
   "source": [
    "fig, axes = plt.subplots(1, 2, figsize=(7, 4),sharex=True)\n",
    "ax=axes[0]\n",
    "ax.hist(Airline_data['Passenger deaths'],color=dark,edgecolor=dark_highlight,density=True)\n",
    "ax.set_title('Observed passenger deaths')\n",
    "ax.set_yticks(());\n",
    "ax2=axes[1]\n",
    "ax2.hist(deaths_pred,bins=6,color=dark,edgecolor=dark_highlight,density=True)\n",
    "ax2.set_title('Predicted passenger deaths')\n",
    "ax2.set_yticks(());\n",
    "fig.tight_layout()\n",
    "\n",
    "plt.show()"
   ]
  },
  {
   "cell_type": "markdown",
   "metadata": {
    "pycharm": {
     "is_executing": false,
     "name": "#%% md\n"
    }
   },
   "source": [
    "It's hard to create good prediction with that amount of data, \n",
    "but still its not good prediction because we have received model which is focused between 600 and 800.\n",
    "Real data is much wider then simulated one"
   ]
  },
  {
   "cell_type": "markdown",
   "metadata": {
    "pycharm": {
     "is_executing": false,
     "name": "#%% md\n"
    }
   },
   "source": [
    "## 2. The intensity is constant, but rate is a product of intensity and miles flown."
   ]
  },
  {
   "cell_type": "code",
   "execution_count": 18,
   "metadata": {
    "pycharm": {
     "is_executing": false,
     "name": "#%%\n"
    }
   },
   "outputs": [
    {
     "data": {
      "text/plain": "0.126"
     },
     "metadata": {},
     "output_type": "execute_result",
     "execution_count": 18
    }
   ],
   "source": [
    "Intensity = Airline_data['Death rate'].mean()\n",
    "Intensity"
   ]
  },
  {
   "cell_type": "code",
   "execution_count": 19,
   "metadata": {
    "pycharm": {
     "is_executing": false,
     "name": "#%%\n"
    }
   },
   "outputs": [
    {
     "name": "stdout",
     "text": [
      "// Passenger deaths - prior predictive checks with rate as product of intensity and miles flown\n",
      "\n",
      "data {\n",
      "    int N;\n",
      "    real Miles[N];\n",
      "}\n",
      "\n",
      "generated quantities {\n",
      "    // beta is our intensity\n",
      "    // We also use beta distribution because it is in interval 0 to 1 and we dont expect more then 1 dead people per 100 mld miles flown\n",
      "    // Also its impossible to get - death ratio co 0 limit is perfect for us.\n",
      "    // Additionally we want to focus rather values around 0,2 then 0,8 that why I decided to use alpha=2 and beta=10 parameters\n",
      "    real beta = beta_rng(2,10);\n",
      "    int deaths[N];\n",
      "    for(i in 1:N) {\n",
      "        deaths[i] = poisson_rng(Miles[i]*beta);\n",
      "    }\n",
      "\n",
      "}\n"
     ],
     "output_type": "stream"
    }
   ],
   "source": [
    "with open('PD_PPC_rate_as_product.stan', 'r') as file:\n",
    "    print(file.read())"
   ]
  },
  {
   "cell_type": "code",
   "execution_count": 20,
   "metadata": {
    "pycharm": {
     "is_executing": false,
     "name": "#%%\n"
    }
   },
   "outputs": [
    {
     "name": "stderr",
     "text": [
      "INFO:pystan:COMPILING THE C++ CODE FOR MODEL anon_model_5b962d6c9498e1a887b326225e9c8e4b NOW.\n"
     ],
     "output_type": "stream"
    }
   ],
   "source": [
    "model_ppc_rate=stan_utility.compile_model('PD_PPC_rate_as_product.stan')"
   ]
  },
  {
   "cell_type": "code",
   "execution_count": 21,
   "metadata": {
    "pycharm": {
     "is_executing": false,
     "name": "#%%\n"
    }
   },
   "outputs": [],
   "source": [
    "R=1000\n",
    "data_sim=dict(N=50,\n",
    "              Miles=np.linspace(Airline_data['Miles flown [100 mln miles]'].min(),\n",
    "                                Airline_data['Miles flown [100 mln miles]'].max()))\n",
    "                                   \n",
    "rate_sim = model_ppc_rate.sampling(data=data_sim,\n",
    "                                   iter=R,\n",
    "                                   warmup=0,\n",
    "                                   chains=1,\n",
    "                                   refresh=R,\n",
    "                                   algorithm='Fixed_param',\n",
    "                                   seed=43541)"
   ]
  },
  {
   "cell_type": "code",
   "execution_count": 22,
   "metadata": {
    "pycharm": {
     "is_executing": false,
     "name": "#%%\n"
    }
   },
   "outputs": [],
   "source": [
    "params_rate_sim=rate_sim.extract()\n",
    "beta_sim=params_rate_sim['beta']"
   ]
  },
  {
   "cell_type": "code",
   "execution_count": 23,
   "metadata": {
    "pycharm": {
     "is_executing": false,
     "name": "#%%\n"
    }
   },
   "outputs": [
    {
     "data": {
      "text/plain": "<Figure size 504x288 with 1 Axes>",
      "image/png": "[encoded data removed]"
     },
     "metadata": {
      "needs_background": "light"
     },
     "output_type": "display_data"
    }
   ],
   "source": [
    "fig, axes = plt.subplots(1, 1, figsize=(7, 4))\n",
    "axes.hlines([Airline_data['Passenger deaths'].min(),\n",
    "             Airline_data['Passenger deaths'].max()],\n",
    "            xmin=Airline_data['Miles flown [100 mln miles]'].min(),\n",
    "            xmax=Airline_data['Miles flown [100 mln miles]'].max(),\n",
    "            linestyles='--',\n",
    "            colors='black')\n",
    "for i in range(100):\n",
    "    axes.plot(Airline_data['Miles flown [100 mln miles]'],\n",
    "              beta_sim[i]*Airline_data['Miles flown [100 mln miles]'],\n",
    "              color=mid,\n",
    "              alpha=0.5,\n",
    "              linewidth=0.5)\n",
    "axes.set_xlabel('Miles flown [100 mln miles]')\n",
    "axes.set_ylabel('Passenger deaths')\n",
    "axes.set_title(r'Intensity*$\\beta$+$\\alpha$')\n",
    "plt.show()"
   ]
  },
  {
   "cell_type": "markdown",
   "metadata": {
    "pycharm": {
     "is_executing": false,
     "name": "#%% md\n"
    }
   },
   "source": [
    "Its not perfectly fit but conditions are met for most of lines."
   ]
  },
  {
   "cell_type": "code",
   "execution_count": 24,
   "metadata": {
    "pycharm": {
     "is_executing": false,
     "name": "#%%\n"
    }
   },
   "outputs": [],
   "source": [
    "deaths_rate_sim=params_rate_sim['deaths']"
   ]
  },
  {
   "cell_type": "code",
   "execution_count": 25,
   "metadata": {
    "pycharm": {
     "is_executing": false,
     "name": "#%%\n"
    }
   },
   "outputs": [
    {
     "data": {
      "text/plain": "<Figure size 504x288 with 1 Axes>",
      "image/png": "[encoded data removed]"
     },
     "metadata": {
      "needs_background": "light"
     },
     "output_type": "display_data"
    }
   ],
   "source": [
    "fig, axes = plt.subplots(1, 1, figsize=(7,4))\n",
    "axes = ribbon_plot(data_sim['Miles'],deaths_rate_sim,axes)\n",
    "axes.scatter(Airline_data['Miles flown [100 mln miles]'],\n",
    "             Airline_data['Passenger deaths'],\n",
    "             color='black',\n",
    "             alpha=0.2,\n",
    "             s=10)\n",
    "axes.set_xlabel('Miles flown [100 mln miles]')\n",
    "axes.set_ylabel('Passenger deaths')\n",
    "plt.show()"
   ]
  },
  {
   "cell_type": "markdown",
   "metadata": {
    "pycharm": {
     "name": "#%% md\n"
    }
   },
   "source": [
    "We can se that our prior behave very well for that amount of samples it covers almost all of them."
   ]
  },
  {
   "cell_type": "code",
   "execution_count": 26,
   "metadata": {
    "pycharm": {
     "is_executing": false,
     "name": "#%%\n"
    }
   },
   "outputs": [
    {
     "name": "stdout",
     "text": [
      "data {\n",
      "    int N; //Number of our samples from data\n",
      "    int deaths[N]; //Our deaths per year from data\n",
      "    vector[N] Miles;\n",
      "}\n",
      "\n",
      "parameters{\n",
      "    real beta;\n",
      "}\n",
      "\n",
      "transformed parameters {\n",
      "    vector[N] lambda = Miles*beta;\n",
      "}\n",
      "\n",
      "model {\n",
      "    beta ~ beta(2,10);\n",
      "    deaths ~ poisson(lambda);\n",
      "}\n",
      "\n",
      "generated quantities {\n",
      "    int death[N];\n",
      "    for (i in 1:N) {\n",
      "        death[i] = poisson_rng(lambda[i]);\n",
      "    }\n",
      "\n",
      "}\n"
     ],
     "output_type": "stream"
    }
   ],
   "source": [
    "with open('PD_rate_fit.stan', 'r') as file:\n",
    "    print(file.read())"
   ]
  },
  {
   "cell_type": "code",
   "execution_count": 27,
   "metadata": {
    "pycharm": {
     "is_executing": false,
     "name": "#%%\n"
    }
   },
   "outputs": [
    {
     "name": "stderr",
     "text": [
      "INFO:pystan:COMPILING THE C++ CODE FOR MODEL anon_model_2aa23cc259ef084f93446d0d1f201ab9 NOW.\n"
     ],
     "output_type": "stream"
    }
   ],
   "source": [
    "model_rate_fit = stan_utility.compile_model('PD_rate_fit.stan')"
   ]
  },
  {
   "cell_type": "code",
   "execution_count": 28,
   "metadata": {
    "pycharm": {
     "is_executing": false,
     "name": "#%%\n"
    }
   },
   "outputs": [],
   "source": [
    "data_fit=dict(N=len(Airline_data),\n",
    "              deaths=Airline_data['Passenger deaths'],\n",
    "              Miles=Airline_data['Miles flown [100 mln miles]'])\n",
    "\n",
    "rate_fit=model_rate_fit.sampling(data=data_fit,\n",
    "                                 seed=43541)"
   ]
  },
  {
   "cell_type": "code",
   "execution_count": 29,
   "metadata": {
    "pycharm": {
     "is_executing": false,
     "name": "#%%\n"
    }
   },
   "outputs": [],
   "source": [
    "params_rate_fit=rate_fit.extract()\n",
    "beta_rate_fit=params_rate_fit['beta']\n",
    "lambda_rate_fit=params_rate_fit['lambda']\n",
    "deaths_rate_pred=params_rate_fit['death']"
   ]
  },
  {
   "cell_type": "code",
   "execution_count": 30,
   "metadata": {
    "pycharm": {
     "is_executing": false,
     "name": "#%%\n"
    }
   },
   "outputs": [
    {
     "data": {
      "text/plain": "             mean     sd  hpd_3%  hpd_97%\nbeta         0.12   0.00    0.12     0.12\nlambda[0]  467.62   5.82  456.90   478.52\nlambda[1]  520.52   6.48  508.59   532.65\nlambda[2]  608.53   7.57  594.58   622.71\nlambda[3]  663.48   8.26  648.28   678.95\nlambda[4]  703.79   8.76  687.66   720.20\nlambda[5]  730.30   9.09  713.57   747.32\nlambda[6]  711.42   8.85  695.11   728.00\nlambda[7]  753.30   9.38  736.04   770.86\nlambda[8]  899.77  11.20  879.15   920.75\nlambda[9]  860.31  10.71  840.60   880.36",
      "text/html": "<div>\n<style scoped>\n    .dataframe tbody tr th:only-of-type {\n        vertical-align: middle;\n    }\n\n    .dataframe tbody tr th {\n        vertical-align: top;\n    }\n\n    .dataframe thead th {\n        text-align: right;\n    }\n</style>\n<table border=\"1\" class=\"dataframe\">\n  <thead>\n    <tr style=\"text-align: right;\">\n      <th></th>\n      <th>mean</th>\n      <th>sd</th>\n      <th>hpd_3%</th>\n      <th>hpd_97%</th>\n    </tr>\n  </thead>\n  <tbody>\n    <tr>\n      <td>beta</td>\n      <td>0.12</td>\n      <td>0.00</td>\n      <td>0.12</td>\n      <td>0.12</td>\n    </tr>\n    <tr>\n      <td>lambda[0]</td>\n      <td>467.62</td>\n      <td>5.82</td>\n      <td>456.90</td>\n      <td>478.52</td>\n    </tr>\n    <tr>\n      <td>lambda[1]</td>\n      <td>520.52</td>\n      <td>6.48</td>\n      <td>508.59</td>\n      <td>532.65</td>\n    </tr>\n    <tr>\n      <td>lambda[2]</td>\n      <td>608.53</td>\n      <td>7.57</td>\n      <td>594.58</td>\n      <td>622.71</td>\n    </tr>\n    <tr>\n      <td>lambda[3]</td>\n      <td>663.48</td>\n      <td>8.26</td>\n      <td>648.28</td>\n      <td>678.95</td>\n    </tr>\n    <tr>\n      <td>lambda[4]</td>\n      <td>703.79</td>\n      <td>8.76</td>\n      <td>687.66</td>\n      <td>720.20</td>\n    </tr>\n    <tr>\n      <td>lambda[5]</td>\n      <td>730.30</td>\n      <td>9.09</td>\n      <td>713.57</td>\n      <td>747.32</td>\n    </tr>\n    <tr>\n      <td>lambda[6]</td>\n      <td>711.42</td>\n      <td>8.85</td>\n      <td>695.11</td>\n      <td>728.00</td>\n    </tr>\n    <tr>\n      <td>lambda[7]</td>\n      <td>753.30</td>\n      <td>9.38</td>\n      <td>736.04</td>\n      <td>770.86</td>\n    </tr>\n    <tr>\n      <td>lambda[8]</td>\n      <td>899.77</td>\n      <td>11.20</td>\n      <td>879.15</td>\n      <td>920.75</td>\n    </tr>\n    <tr>\n      <td>lambda[9]</td>\n      <td>860.31</td>\n      <td>10.71</td>\n      <td>840.60</td>\n      <td>880.36</td>\n    </tr>\n  </tbody>\n</table>\n</div>"
     },
     "metadata": {},
     "output_type": "execute_result",
     "execution_count": 30
    }
   ],
   "source": [
    "az.summary(rate_fit,\n",
    "           var_names=['beta', 'lambda'],\n",
    "           round_to=2,\n",
    "           kind='stats')"
   ]
  },
  {
   "cell_type": "code",
   "execution_count": 31,
   "metadata": {
    "pycharm": {
     "is_executing": false,
     "name": "#%%\n"
    }
   },
   "outputs": [
    {
     "data": {
      "text/plain": "<Figure size 504x288 with 1 Axes>",
      "image/png": "[encoded data removed]"
     },
     "metadata": {
      "needs_background": "light"
     },
     "output_type": "display_data"
    }
   ],
   "source": [
    "fig, axes = plt.subplots(1,1, figsize=(7, 4),sharey=True,sharex=True)\n",
    "for i in range(100):\n",
    "    axes.plot(Airline_data['Miles flown [100 mln miles]'],\n",
    "              beta_rate_fit[i]*Airline_data['Miles flown [100 mln miles]'],\n",
    "              color=mid,\n",
    "              alpha=0.5,\n",
    "              linewidth=0.5)\n",
    "axes.scatter(Airline_data['Miles flown [100 mln miles]'],Airline_data['Passenger deaths'],color='black',alpha=0.1,s=10)\n",
    "axes.set_ylabel('Passenger deaths')\n",
    "axes.set_xlabel('Miles flown [100 mln miles]')\n",
    "axes.set_title('Mean uncertainity for {} of datapoints'.format(len(Airline_data)))\n",
    "fig.tight_layout()\n",
    "plt.show()"
   ]
  },
  {
   "cell_type": "code",
   "execution_count": 32,
   "metadata": {
    "pycharm": {
     "is_executing": false,
     "name": "#%%\n"
    }
   },
   "outputs": [
    {
     "name": "stdout",
     "text": [
      "Sorting\n"
     ],
     "output_type": "stream"
    },
    {
     "data": {
      "text/plain": "<Figure size 504x288 with 1 Axes>",
      "image/png": "[encoded data removed]"
     },
     "metadata": {
      "needs_background": "light"
     },
     "output_type": "display_data"
    }
   ],
   "source": [
    "fig, axes = plt.subplots(1, 1, figsize=(7, 4))\n",
    "axes = ribbon_plot(Airline_data['Miles flown [100 mln miles]'].values,deaths_rate_pred,axes)\n",
    "axes.scatter(Airline_data['Miles flown [100 mln miles]'],Airline_data['Passenger deaths'],color='black',alpha=0.1,s=10)\n",
    "axes.set_ylabel('Passenger deaths')\n",
    "axes.set_xlabel('Miles flown [100 mln miles]')\n",
    "axes.set_title('Prediction uncertainity for {} of datapoints'.format(len(Airline_data)))\n",
    "plt.show()"
   ]
  },
  {
   "cell_type": "markdown",
   "metadata": {
    "pycharm": {
     "is_executing": false,
     "name": "#%% md\n"
    }
   },
   "source": [
    "So as we can se that model fit data much better it's still quite far away to perfect describe the situation.\n",
    "That happened because we have just 10 samples and if we look into our data death ratio isn't constant it rather have quite huge standard variance.\n",
    "So to improve our model we can consider variant intensity. \n",
    "Also we can consider more factors like fact that every year safety for planes are getting better so death ratio should decrease over years.\n"
   ]
  }
 ],
 "metadata": {
  "kernelspec": {
   "display_name": "Python 3",
   "language": "python",
   "name": "python3"
  },
  "language_info": {
   "codemirror_mode": {
    "name": "ipython",
    "version": 3
   },
   "file_extension": ".py",
   "mimetype": "text/x-python",
   "name": "python",
   "nbconvert_exporter": "python",
   "pygments_lexer": "ipython3",
   "version": "3.7.4"
  },
  "pycharm": {
   "stem_cell": {
    "cell_type": "raw",
    "metadata": {
     "collapsed": false
    },
    "source": []
   }
  }
 },
 "nbformat": 4,
 "nbformat_minor": 1
}